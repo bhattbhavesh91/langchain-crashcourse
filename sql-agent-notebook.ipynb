{
  "cells": [
    {
      "cell_type": "markdown",
      "metadata": {
        "id": "arlX8FeMtabc"
      },
      "source": [
        "# SQLDatabaseChain Tutorial by Bhavesh🦜\n",
        "[**Link to my YouTube Channel**](https://www.youtube.com/BhaveshBhatt8791?sub_confirmation=1)"
      ]
    },
    {
      "cell_type": "markdown",
      "source": [
        "## Installs"
      ],
      "metadata": {
        "id": "SodUZXmugnZA"
      }
    },
    {
      "cell_type": "code",
      "execution_count": null,
      "metadata": {
        "id": "T7tOFd1ttabd"
      },
      "outputs": [],
      "source": [
        "%%capture\n",
        "!pip install -q langchain\n",
        "!pip install -q openai"
      ]
    },
    {
      "cell_type": "markdown",
      "source": [
        "# Secret Key"
      ],
      "metadata": {
        "id": "hj2WQa9whw7B"
      }
    },
    {
      "cell_type": "code",
      "source": [
        "import os\n",
        "os.environ['OPENAI_API_KEY'] = 'sk-'"
      ],
      "metadata": {
        "id": "3uuYhNQXfdmY"
      },
      "execution_count": null,
      "outputs": []
    },
    {
      "cell_type": "markdown",
      "source": [
        "# Converting Pandas to SQL Db"
      ],
      "metadata": {
        "id": "tvLjsm1Bjxu9"
      }
    },
    {
      "cell_type": "code",
      "source": [
        "# import numpy as np\n",
        "# import pandas as pd\n",
        "# import sqlite3\n",
        "\n",
        "# df = pd.read_csv(\"data.csv\")\n",
        "\n",
        "# df.rename(columns={'User ID': 'user_id',\n",
        "#                    'Product ID': 'product_id',\n",
        "#                    'Product Name' : 'product_name',\n",
        "#                    'Brand' : 'brand',\n",
        "#                    'Category' : 'category',\n",
        "#                    'Price' : 'price',\n",
        "#                    'Color' : 'color',\n",
        "#                    'Size' : 'size'}, inplace=True)\n",
        "\n",
        "# conn = sqlite3.connect('fashion_db.sqlite')\n",
        "# c = conn.cursor()\n",
        "\n",
        "# c.execute('CREATE TABLE IF NOT EXISTS fashion_products (user_id int, product_id int, product_name text, brand text, category text, price int, rating float, color text, size text)')\n",
        "# conn.commit()\n",
        "\n",
        "# df.to_sql('fashion_products', conn, if_exists='replace', index = False)\n",
        "\n",
        "# c.execute('''\n",
        "# SELECT product_name FROM fashion_products LIMIT 100\n",
        "#           ''')\n",
        "\n",
        "# for row in c.fetchall():\n",
        "#     print (row)"
      ],
      "metadata": {
        "id": "qa8gKNDgfyk_"
      },
      "execution_count": null,
      "outputs": []
    },
    {
      "cell_type": "markdown",
      "source": [
        "# Reading the DB"
      ],
      "metadata": {
        "id": "urDjpvWtj404"
      }
    },
    {
      "cell_type": "code",
      "source": [
        "def read_sql_query(sql, db):\n",
        "    conn = sqlite3.connect(db)\n",
        "    cur = conn.cursor()\n",
        "    cur.execute(sql)\n",
        "    rows = cur.fetchall()\n",
        "    for row in rows:\n",
        "        print(row)\n",
        "    conn.close()"
      ],
      "metadata": {
        "id": "dG96BwyVfyEx"
      },
      "execution_count": null,
      "outputs": []
    },
    {
      "cell_type": "code",
      "source": [
        "import sqlite3\n",
        "read_sql_query('SELECT * FROM fashion_products LIMIT 10;',\n",
        "               \"fashion_db.sqlite\")"
      ],
      "metadata": {
        "id": "P17T9MwgiFCL",
        "colab": {
          "base_uri": "https://localhost:8080/"
        },
        "outputId": "1e27a2ab-47c2-4948-fd3e-4a923ea496b1"
      },
      "execution_count": null,
      "outputs": [
        {
          "output_type": "stream",
          "name": "stdout",
          "text": [
            "(19, 1, 'Dress', 'Adidas', \"Men's Fashion\", 40, 1.0431592108361825, 'Black', 'XL')\n",
            "(97, 2, 'Shoes', 'H&M', \"Women's Fashion\", 82, 4.026416271141911, 'Black', 'L')\n",
            "(25, 3, 'Dress', 'Adidas', \"Women's Fashion\", 44, 3.337937559377053, 'Yellow', 'XL')\n",
            "(57, 4, 'Shoes', 'Zara', \"Men's Fashion\", 23, 1.0495229563128543, 'White', 'S')\n",
            "(79, 5, 'T-shirt', 'Adidas', \"Men's Fashion\", 79, 4.302773408398684, 'Black', 'M')\n",
            "(98, 6, 'Dress', 'Adidas', \"Men's Fashion\", 47, 1.3795657395330458, 'Yellow', 'L')\n",
            "(16, 7, 'Jeans', 'Gucci', \"Men's Fashion\", 37, 1.3567503746842564, 'White', 'XL')\n",
            "(63, 8, 'Sweater', 'Zara', \"Kids' Fashion\", 64, 4.36030328941572, 'Blue', 'XL')\n",
            "(96, 9, 'Sweater', 'H&M', \"Men's Fashion\", 53, 4.466181876278437, 'Green', 'XL')\n",
            "(36, 10, 'T-shirt', 'Zara', \"Kids' Fashion\", 55, 4.093234402033421, 'White', 'XL')\n"
          ]
        }
      ]
    },
    {
      "cell_type": "markdown",
      "source": [
        "# Langchain SQL Agent"
      ],
      "metadata": {
        "id": "nBztCNQakElE"
      }
    },
    {
      "cell_type": "code",
      "source": [
        "from langchain import OpenAI, SQLDatabase, SQLDatabaseChain"
      ],
      "metadata": {
        "id": "c-iId_loiFEg"
      },
      "execution_count": null,
      "outputs": []
    },
    {
      "cell_type": "code",
      "source": [
        "input_db = SQLDatabase.from_uri('sqlite:///fashion_db.sqlite')\n",
        "llm_1 = OpenAI(temperature=0)"
      ],
      "metadata": {
        "id": "g1QeyHrvil6Z"
      },
      "execution_count": null,
      "outputs": []
    },
    {
      "cell_type": "code",
      "source": [
        "db_agent = SQLDatabaseChain(llm = llm_1,\n",
        "                            database = input_db,\n",
        "                            verbose=True)"
      ],
      "metadata": {
        "id": "bwVDUTJ4il8c",
        "colab": {
          "base_uri": "https://localhost:8080/"
        },
        "outputId": "594676ed-4b99-48a1-b782-8e7765f5d8c5"
      },
      "execution_count": null,
      "outputs": [
        {
          "output_type": "stream",
          "name": "stderr",
          "text": [
            "/usr/local/lib/python3.10/dist-packages/langchain/chains/sql_database/base.py:63: UserWarning: Directly instantiating an SQLDatabaseChain with an llm is deprecated. Please instantiate with llm_chain argument or using the from_llm class method.\n",
            "  warnings.warn(\n"
          ]
        }
      ]
    },
    {
      "cell_type": "markdown",
      "source": [
        "# Question 1"
      ],
      "metadata": {
        "id": "xjMuQkB8BnFF"
      }
    },
    {
      "cell_type": "code",
      "source": [
        "db_agent.run(\"how many rows are there?\")"
      ],
      "metadata": {
        "id": "RDovCG0Eil_W",
        "colab": {
          "base_uri": "https://localhost:8080/",
          "height": 174
        },
        "outputId": "ba565125-63d1-4c11-e6e0-c4d702909880"
      },
      "execution_count": null,
      "outputs": [
        {
          "output_type": "stream",
          "name": "stdout",
          "text": [
            "\n",
            "\n",
            "\u001b[1m> Entering new  chain...\u001b[0m\n",
            "how many rows are there?\n",
            "SQLQuery:\u001b[32;1m\u001b[1;3mSELECT COUNT(*) FROM fashion_products;\u001b[0m\n",
            "SQLResult: \u001b[33;1m\u001b[1;3m[(1000,)]\u001b[0m\n",
            "Answer:\u001b[32;1m\u001b[1;3mThere are 1000 rows in the fashion_products table.\u001b[0m\n",
            "\u001b[1m> Finished chain.\u001b[0m\n"
          ]
        },
        {
          "output_type": "execute_result",
          "data": {
            "text/plain": [
              "'There are 1000 rows in the fashion_products table.'"
            ],
            "application/vnd.google.colaboratory.intrinsic+json": {
              "type": "string"
            }
          },
          "metadata": {},
          "execution_count": 9
        }
      ]
    },
    {
      "cell_type": "markdown",
      "source": [
        "# Question 2"
      ],
      "metadata": {
        "id": "XG61vLA0BozA"
      }
    },
    {
      "cell_type": "code",
      "source": [
        "db_agent.run(\"how many entries of Adidas are present?\")"
      ],
      "metadata": {
        "id": "q7Wkx6EKiFHG",
        "colab": {
          "base_uri": "https://localhost:8080/",
          "height": 174
        },
        "outputId": "91049420-6107-45c2-a9c2-11f796094fab"
      },
      "execution_count": null,
      "outputs": [
        {
          "output_type": "stream",
          "name": "stdout",
          "text": [
            "\n",
            "\n",
            "\u001b[1m> Entering new  chain...\u001b[0m\n",
            "how many entries of Adidas are present?\n",
            "SQLQuery:\u001b[32;1m\u001b[1;3mSELECT COUNT(*) FROM fashion_products WHERE brand = 'Adidas';\u001b[0m\n",
            "SQLResult: \u001b[33;1m\u001b[1;3m[(198,)]\u001b[0m\n",
            "Answer:\u001b[32;1m\u001b[1;3mThere are 198 entries of Adidas.\u001b[0m\n",
            "\u001b[1m> Finished chain.\u001b[0m\n"
          ]
        },
        {
          "output_type": "execute_result",
          "data": {
            "text/plain": [
              "'There are 198 entries of Adidas.'"
            ],
            "application/vnd.google.colaboratory.intrinsic+json": {
              "type": "string"
            }
          },
          "metadata": {},
          "execution_count": 10
        }
      ]
    },
    {
      "cell_type": "markdown",
      "source": [
        "# Question 3"
      ],
      "metadata": {
        "id": "GN4P3XzJBsgD"
      }
    },
    {
      "cell_type": "code",
      "source": [
        "db_agent.run(\"how many XL products of Nike are there that have a rating of more than 4?\")"
      ],
      "metadata": {
        "id": "nADLtzRGjJE8",
        "colab": {
          "base_uri": "https://localhost:8080/",
          "height": 194
        },
        "outputId": "080f0fb4-800e-4edd-8640-c31fbc56946b"
      },
      "execution_count": null,
      "outputs": [
        {
          "output_type": "stream",
          "name": "stdout",
          "text": [
            "\n",
            "\n",
            "\u001b[1m> Entering new  chain...\u001b[0m\n",
            "how many XL products of Nike are there that have a rating of more than 4?\n",
            "SQLQuery:\u001b[32;1m\u001b[1;3mSELECT COUNT(*) FROM fashion_products WHERE brand = 'Nike' AND size = 'XL' AND \"Rating\" > 4 LIMIT 5;\u001b[0m\n",
            "SQLResult: \u001b[33;1m\u001b[1;3m[(12,)]\u001b[0m\n",
            "Answer:\u001b[32;1m\u001b[1;3mThere are 12 XL products of Nike that have a rating of more than 4.\u001b[0m\n",
            "\u001b[1m> Finished chain.\u001b[0m\n"
          ]
        },
        {
          "output_type": "execute_result",
          "data": {
            "text/plain": [
              "'There are 12 XL products of Nike that have a rating of more than 4.'"
            ],
            "application/vnd.google.colaboratory.intrinsic+json": {
              "type": "string"
            }
          },
          "metadata": {},
          "execution_count": 11
        }
      ]
    },
    {
      "cell_type": "markdown",
      "source": [
        "# Question 4"
      ],
      "metadata": {
        "id": "7l289EzUBuOD"
      }
    },
    {
      "cell_type": "code",
      "source": [
        "db_agent.run(\"Give all the details of Adidas which have a size of L and have a rating of more than 4.2\")"
      ],
      "metadata": {
        "id": "byC6friejJHt",
        "colab": {
          "base_uri": "https://localhost:8080/",
          "height": 194
        },
        "outputId": "14b59b06-3fc8-43d8-d541-ba56911eaa55"
      },
      "execution_count": null,
      "outputs": [
        {
          "output_type": "stream",
          "name": "stdout",
          "text": [
            "\n",
            "\n",
            "\u001b[1m> Entering new  chain...\u001b[0m\n",
            "Give all the details of Adidas which have a size of L and have a rating of more than 4.2\n",
            "SQLQuery:\u001b[32;1m\u001b[1;3mSELECT * FROM fashion_products WHERE brand = 'Adidas' AND size = 'L' AND \"Rating\" > 4.2;\u001b[0m\n",
            "SQLResult: \u001b[33;1m\u001b[1;3m[(100, 166, 'Sweater', 'Adidas', \"Kids' Fashion\", 96, 4.743823985146882, 'White', 'L'), (95, 327, 'Dress', 'Adidas', \"Kids' Fashion\", 72, 4.572943412760792, 'White', 'L'), (20, 808, 'T-shirt', 'Adidas', \"Women's Fashion\", 26, 4.324805158780109, 'Yellow', 'L'), (37, 928, 'Sweater', 'Adidas', \"Kids' Fashion\", 10, 4.585559724465988, 'Black', 'L')]\u001b[0m\n",
            "Answer:\u001b[32;1m\u001b[1;3mAdidas products with size L and rating more than 4.2 are Sweater, Dress, T-shirt and Sweater.\u001b[0m\n",
            "\u001b[1m> Finished chain.\u001b[0m\n"
          ]
        },
        {
          "output_type": "execute_result",
          "data": {
            "text/plain": [
              "'Adidas products with size L and rating more than 4.2 are Sweater, Dress, T-shirt and Sweater.'"
            ],
            "application/vnd.google.colaboratory.intrinsic+json": {
              "type": "string"
            }
          },
          "metadata": {},
          "execution_count": 12
        }
      ]
    },
    {
      "cell_type": "code",
      "source": [],
      "metadata": {
        "id": "y9eRBcF1jUCz"
      },
      "execution_count": null,
      "outputs": []
    },
    {
      "cell_type": "code",
      "source": [],
      "metadata": {
        "id": "t5yiAlGAjUFF"
      },
      "execution_count": null,
      "outputs": []
    },
    {
      "cell_type": "code",
      "source": [],
      "metadata": {
        "id": "-qhZn0NEjUIi"
      },
      "execution_count": null,
      "outputs": []
    },
    {
      "cell_type": "code",
      "source": [],
      "metadata": {
        "id": "O9oQXbD_iFJa"
      },
      "execution_count": null,
      "outputs": []
    }
  ],
  "metadata": {
    "kernelspec": {
      "display_name": "Python 3",
      "name": "python3"
    },
    "language_info": {
      "name": "python"
    },
    "colab": {
      "provenance": [],
      "collapsed_sections": [
        "XG61vLA0BozA",
        "GN4P3XzJBsgD",
        "7l289EzUBuOD"
      ]
    }
  },
  "nbformat": 4,
  "nbformat_minor": 0
}